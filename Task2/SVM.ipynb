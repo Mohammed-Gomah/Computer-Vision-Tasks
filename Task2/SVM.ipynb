{
 "cells": [
  {
   "cell_type": "code",
   "execution_count": 1,
   "id": "7f0a82b3-d384-4632-a1b6-ad061a6fa028",
   "metadata": {},
   "outputs": [],
   "source": [
    "# Importing necessary libraries\n",
    "from sklearn import datasets\n",
    "from sklearn.model_selection import train_test_split\n",
    "from sklearn.svm import SVC\n",
    "from sklearn.preprocessing import StandardScaler\n",
    "from sklearn.metrics import classification_report, confusion_matrix"
   ]
  },
  {
   "cell_type": "code",
   "execution_count": 3,
   "id": "7d2eef3a-d78c-470e-9be2-3d0c7779c4db",
   "metadata": {},
   "outputs": [],
   "source": [
    "# Loading the breast cancer dataset\n",
    "cancer_data = datasets.load_breast_cancer()\n",
    "features = cancer_data.data\n",
    "labels = cancer_data.target"
   ]
  },
  {
   "cell_type": "code",
   "execution_count": null,
   "id": "4b78c696-0ed2-4245-94d5-a8b3a6b337d7",
   "metadata": {},
   "outputs": [],
   "source": []
  }
 ],
 "metadata": {
  "kernelspec": {
   "display_name": "Python 3 (ipykernel)",
   "language": "python",
   "name": "python3"
  },
  "language_info": {
   "codemirror_mode": {
    "name": "ipython",
    "version": 3
   },
   "file_extension": ".py",
   "mimetype": "text/x-python",
   "name": "python",
   "nbconvert_exporter": "python",
   "pygments_lexer": "ipython3",
   "version": "3.12.4"
  }
 },
 "nbformat": 4,
 "nbformat_minor": 5
}
